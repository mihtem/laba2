{
 "cells": [
  {
   "cell_type": "code",
   "execution_count": 1,
   "id": "bb50d348-511c-4832-99b7-801cf50ffa62",
   "metadata": {},
   "outputs": [
    {
     "name": "stdin",
     "output_type": "stream",
     "text": [
      "Введите строку s:  >Rosalind_14 ACGTACGTGACG\n"
     ]
    }
   ],
   "source": [
    "s = input(\"Введите строку s: \")\n",
    "str1 = s.find(\" \")\n",
    "s2 = s[str1 + 1 : ]"
   ]
  },
  {
   "cell_type": "code",
   "execution_count": 2,
   "id": "ce953b54-0a13-4599-867a-21e15178b853",
   "metadata": {},
   "outputs": [
    {
     "name": "stdin",
     "output_type": "stream",
     "text": [
      "Введите подпоследовательность t:  ACG\n"
     ]
    }
   ],
   "source": [
    "t = input(\"Введите подпоследовательность t: \")\n",
    "str2 = t.find(\" \")\n",
    "t2 = t[str2 + 1 : ]\n",
    "x = s2.count(t2)"
   ]
  },
  {
   "cell_type": "code",
   "execution_count": 3,
   "id": "e3cecf3c-8e5a-43fb-8dcb-6b252f0a1864",
   "metadata": {},
   "outputs": [
    {
     "name": "stdout",
     "output_type": "stream",
     "text": [
      "z =  012\n"
     ]
    }
   ],
   "source": [
    "q1 = 0\n",
    "q2 = 0\n",
    "h = 0\n",
    "z = \"\"\n",
    "for n in range(0, len(s2)):\n",
    "    if s2[h:].find(t2[q2:]) != -1:\n",
    "        q1 = s2[h:].find(t2[q2:])\n",
    "        q2 = q2 + 1\n",
    "        h = h + q1\n",
    "        z = z + str(h)\n",
    "        if q2 == len(t2):\n",
    "            break\n",
    "print(\"z = \", z)"
   ]
  },
  {
   "cell_type": "code",
   "execution_count": null,
   "id": "55aa59ea-5141-48fe-b324-771b7d547feb",
   "metadata": {},
   "outputs": [],
   "source": []
  }
 ],
 "metadata": {
  "kernelspec": {
   "display_name": "Python 3 (ipykernel)",
   "language": "python",
   "name": "python3"
  },
  "language_info": {
   "codemirror_mode": {
    "name": "ipython",
    "version": 3
   },
   "file_extension": ".py",
   "mimetype": "text/x-python",
   "name": "python",
   "nbconvert_exporter": "python",
   "pygments_lexer": "ipython3",
   "version": "3.13.2"
  }
 },
 "nbformat": 4,
 "nbformat_minor": 5
}
